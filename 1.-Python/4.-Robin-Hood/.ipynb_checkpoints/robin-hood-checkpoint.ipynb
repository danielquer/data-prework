{
 "cells": [
  {
   "cell_type": "markdown",
   "metadata": {},
   "source": [
    "<img src=\"https://bit.ly/2VnXWr2\" width=\"100\" align=\"left\"/>"
   ]
  },
  {
   "cell_type": "markdown",
   "metadata": {},
   "source": [
    "# Robin Hood\n",
    "Robin Hood has entered a competition to win the archery contest in Sherwood. With his bow and arrows, he needs to shoot on a target and try to hit as close as possible to the center.\n",
    "\n",
    "![](images/arrows.jpg)\n",
    "\n",
    "## Context\n",
    "In this challenge, the landing position of arrows shot by archers in the competition will be represented using 2-dimensional coordinates. \n",
    "\n",
    "In the 2-dimensional space, a point can be defined by a pair of values that correspond to the horizontal coordinate (x) and the vertical coordinate (y). For example, in our case, an arrow that hits the center of the archery target will land in position (0, 0) on the coordinate axes. \n",
    "\n",
    "The space can be divided into 4 zones (quadrants): Q1, Q2, Q3, Q4. If a point is in Q1, both its x coordinate and y coordinate are positive. Any point with a null x or y coordinate is considered to not belong to any quadrant. \n",
    "\n",
    "If you want to know more about the cartesian coordinate system, you can check this [link](https://en.wikipedia.org/wiki/Cartesian_coordinate_system). \n",
    "\n",
    "## Tools\n",
    "You don't necessarily need to use all the tools. Maybe you opt to use some of them or completely different ones, they are given to help you shape the exercise. Programming exercises can be solved in many different ways.\n",
    "* Data structures: **lists, sets, tuples**\n",
    "* Conditional statements: **if-elif-else**\n",
    "* Loop: **while/for**\n",
    "* Minimum (optional sorting)\n",
    "\n",
    "## Tasks\n",
    "Robin Hood has hit the following points:"
   ]
  },
  {
   "cell_type": "code",
   "execution_count": 3,
   "metadata": {},
   "outputs": [],
   "source": [
    "points = [(4, 5), (-0, 2), (4, 7), (1, -3), (3, -2), (4, 5), (3, 2), (5, 7), (-5, 7), (2, 2), (-4, 5), (0, -2),\n",
    "          (-4, 7), (-1, 3), (-3, 2), (-4, -5), (-3, 2), (5, 7), (5, 7), (2, 2), (9, 9), (-8, -9)]"
   ]
  },
  {
   "cell_type": "markdown",
   "metadata": {},
   "source": [
    "#### 1. Robin Hood is famous for hitting an arrow with another arrow. Find the coordinates of the points where an arrow hits another arrow."
   ]
  },
  {
   "cell_type": "code",
   "execution_count": 16,
   "metadata": {},
   "outputs": [
    {
     "name": "stdout",
     "output_type": "stream",
     "text": [
      "[(-3, 2), (4, 5), (5, 7), (2, 2)]\n"
     ]
    }
   ],
   "source": [
    "arrow_hits_arrow = list(set([i for i in points \n",
    "            if points.count(i) > 1])) \n",
    "\n",
    "print(arrow_hits_arrow)"
   ]
  },
  {
   "cell_type": "markdown",
   "metadata": {},
   "source": [
    "#### 2. Calculate how many arrows have fallen in each quadrant. \n",
    "**Note**: the arrows that fall in the axis (x=0 or y=0) don't belong to any quadrant."
   ]
  },
  {
   "cell_type": "code",
   "execution_count": 19,
   "metadata": {},
   "outputs": [
    {
     "name": "stdout",
     "output_type": "stream",
     "text": [
      "Total arrows in Q1:  10\n",
      "Total arrows in Q2:  6\n",
      "Total arrows in Q3:  2\n",
      "Total arrows in Q4:  2\n"
     ]
    }
   ],
   "source": [
    "Q1_arrows = []\n",
    "Q2_arrows = []\n",
    "Q3_arrows = []\n",
    "Q4_arrows = []\n",
    "\n",
    "for i in range(len(points)):\n",
    "    if points[i][0] > 0 and points[i][-1] > 0:\n",
    "        Q1_arrows.append(points[i])\n",
    "    elif points[i][0] < 0 and points[i][-1] > 0:\n",
    "        Q2_arrows.append(points[i])\n",
    "    elif points[i][0] < 0 and points[i][-1] < 0:\n",
    "        Q3_arrows.append(points[i])\n",
    "    elif points[i][0] > 0 and points[i][-1] < 0:\n",
    "        Q4_arrows.append(points[i])\n",
    "\n",
    "arrows_in_q1 = len(Q1_arrows)\n",
    "arrows_in_q2 = len(Q2_arrows)\n",
    "arrows_in_q3 = len(Q3_arrows)\n",
    "arrows_in_q4 = len(Q4_arrows)\n",
    "\n",
    "print(\"Total arrows in Q1: \", arrows_in_q1)\n",
    "print(\"Total arrows in Q2: \", arrows_in_q2)\n",
    "print(\"Total arrows in Q3: \", arrows_in_q3)\n",
    "print(\"Total arrows in Q4: \", arrows_in_q4)\n"
   ]
  },
  {
   "cell_type": "markdown",
   "metadata": {},
   "source": [
    "#### 3. Find the point closest to the center. Calculate its distance to the center. \n",
    "Take into account that there might be more than one point at the minimum distance to the center.\n",
    "\n",
    "**Hint**: Use the Euclidean distance. You can find more information about it [here](https://en.wikipedia.org/wiki/Euclidean_distance).  \n",
    "**Hint**: Defining a function that calculates the distance to the center can help."
   ]
  },
  {
   "cell_type": "code",
   "execution_count": 26,
   "metadata": {},
   "outputs": [],
   "source": [
    "import math"
   ]
  },
  {
   "cell_type": "code",
   "execution_count": 64,
   "metadata": {},
   "outputs": [
    {
     "name": "stdout",
     "output_type": "stream",
     "text": [
      "[[4, 5], [0, 2], [4, 7], [1, -3], [3, -2], [4, 5], [3, 2], [5, 7], [-5, 7], [2, 2], [-4, 5], [0, -2], [-4, 7], [-1, 3], [-3, 2], [-4, -5], [-3, 2], [5, 7], [5, 7], [2, 2], [9, 9], [-8, -9]]\n",
      "[[4, 5, 6.4031242374328485], [0, 2, 2.0], [4, 7, 8.06225774829855], [1, -3, 3.1622776601683795], [3, -2, 3.605551275463989], [4, 5, 6.4031242374328485], [3, 2, 3.605551275463989], [5, 7, 8.602325267042627], [-5, 7, 8.602325267042627], [2, 2, 2.8284271247461903], [-4, 5, 6.4031242374328485], [0, -2, 2.0], [-4, 7, 8.06225774829855], [-1, 3, 3.1622776601683795], [-3, 2, 3.605551275463989], [-4, -5, 6.4031242374328485], [-3, 2, 3.605551275463989], [5, 7, 8.602325267042627], [5, 7, 8.602325267042627], [2, 2, 2.8284271247461903], [9, 9, 12.727922061357855], [-8, -9, 12.041594578792296]]\n",
      "The point ( 0 , 2 ) is at the minimum distance to the center. Its distance is  2.0  units\n",
      "The point ( 0 , -2 ) is at the minimum distance to the center. Its distance is  2.0  units\n"
     ]
    }
   ],
   "source": [
    "points_list = [list(i) for i in points]\n",
    "\n",
    "print(points_list)\n",
    "\n",
    "for i in range(len(points)):\n",
    "    aux = pow(points[i][0]-0,2) + pow(points[i][-1]-0,2)\n",
    "    distance = math.sqrt(aux)\n",
    "    points_list[i].append(distance)\n",
    "\n",
    "print(points_list)\n",
    "\n",
    "distances = [item[2] for item in points_list]\n",
    "closest_distance = min(distances)\n",
    "\n",
    "for arrow in points_list:\n",
    "    if arrow[2] == closest_distance:\n",
    "        print(\"The point (\",arrow[0],\",\",arrow[1],\") is at the minimum distance to the center. Its distance is \",closest_distance,\" units\")\n"
   ]
  },
  {
   "cell_type": "markdown",
   "metadata": {},
   "source": [
    "#### 4. If the archery target has a radius of 9, calculate the number of arrows that won't hit the target. \n",
    "**Hint**: Use the function created in step 3. "
   ]
  },
  {
   "cell_type": "code",
   "execution_count": 68,
   "metadata": {},
   "outputs": [
    {
     "name": "stdout",
     "output_type": "stream",
     "text": [
      "2 arrows won't hit the target.\n"
     ]
    }
   ],
   "source": [
    "arrows_missing_target = 0\n",
    "\n",
    "for arrow in points_list:\n",
    "    if arrow[2] > 9:\n",
    "        arrows_missing_target += 1\n",
    "\n",
    "print(arrows_missing_target, \"arrows won't hit the target.\")"
   ]
  }
 ],
 "metadata": {
  "kernelspec": {
   "display_name": "Python 3",
   "language": "python",
   "name": "python3"
  },
  "language_info": {
   "codemirror_mode": {
    "name": "ipython",
    "version": 3
   },
   "file_extension": ".py",
   "mimetype": "text/x-python",
   "name": "python",
   "nbconvert_exporter": "python",
   "pygments_lexer": "ipython3",
   "version": "3.8.5"
  }
 },
 "nbformat": 4,
 "nbformat_minor": 2
}
