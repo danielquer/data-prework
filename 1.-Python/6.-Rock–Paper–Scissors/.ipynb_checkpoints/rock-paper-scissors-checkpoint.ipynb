{
 "cells": [
  {
   "cell_type": "markdown",
   "metadata": {},
   "source": [
    "<img src=\"https://bit.ly/2VnXWr2\" width=\"100\" align=\"left\">"
   ]
  },
  {
   "cell_type": "markdown",
   "metadata": {},
   "source": [
    "# Rock, Paper & Scissors\n",
    "\n",
    "Let's play the famous game against our computer. You can check the rules [here](https://en.wikipedia.org/wiki/Rock%E2%80%93paper%E2%80%93scissors). \n",
    "\n",
    "## Task\n",
    "Create a program that imitates the playability of the well known game of rock, paper, scissors. Follow the guidelines provided.\n",
    "\n",
    "## Tools\n",
    "1. Loop: **for/while**\n",
    "2. Functions: **input(), print()...**\n",
    "3. Conditional statements: **if, elif, else**\n",
    "4. Definition of functions. Modular programming\n",
    "5. Import modules\n",
    "\n",
    "**To solve this challenge, the use of functions is recommended.**\n",
    "\n",
    "#### 1. Import the choice function of the random module."
   ]
  },
  {
   "cell_type": "code",
   "execution_count": 412,
   "metadata": {},
   "outputs": [
    {
     "name": "stdout",
     "output_type": "stream",
     "text": [
      "Once deleted, variables cannot be recovered. Proceed (y/[n])? y\n"
     ]
    }
   ],
   "source": [
    "%reset\n",
    "import random"
   ]
  },
  {
   "cell_type": "markdown",
   "metadata": {},
   "source": [
    "#### 2. Create a list that includes the 3 possible gesture options of the game: 'rock', 'paper' or 'scissors'. Store the list in a variable called `gestures`."
   ]
  },
  {
   "cell_type": "code",
   "execution_count": 413,
   "metadata": {},
   "outputs": [],
   "source": [
    "gestures = ['rock','paper','scissors']"
   ]
  },
  {
   "cell_type": "markdown",
   "metadata": {},
   "source": [
    "#### 3. Create a variable called `n_rounds` to store the maximum number of rounds to play in a game. \n",
    "Remember that the number of rounds must be odd: 1, 3, 5, ..."
   ]
  },
  {
   "cell_type": "code",
   "execution_count": 414,
   "metadata": {},
   "outputs": [],
   "source": [
    "n_rounds = 9"
   ]
  },
  {
   "cell_type": "markdown",
   "metadata": {},
   "source": [
    "#### 4. Create a variable called `rounds_to_win` to store the number of rounds that a player must win to win the game.\n",
    "**Hint**: the value stored in `rounds_to_win` depends on the value of `n_rounds`. "
   ]
  },
  {
   "cell_type": "code",
   "execution_count": 458,
   "metadata": {},
   "outputs": [
    {
     "data": {
      "text/plain": [
       "5"
      ]
     },
     "execution_count": 458,
     "metadata": {},
     "output_type": "execute_result"
    }
   ],
   "source": [
    "import math \n",
    "\n",
    "rounds_to_win = math.floor(n_rounds/2)+1\n",
    "\n",
    "rounds_to_win"
   ]
  },
  {
   "cell_type": "markdown",
   "metadata": {},
   "source": [
    "#### 5. Create two variables to store the number of rounds that the computer and the player have won. Call these variables `cpu_score` and `player_score`."
   ]
  },
  {
   "cell_type": "code",
   "execution_count": 416,
   "metadata": {},
   "outputs": [],
   "source": [
    "cpu_score = 0\n",
    "player_score = 0"
   ]
  },
  {
   "cell_type": "markdown",
   "metadata": {},
   "source": [
    "#### 6. Define a function that randomly returns one of the 3 gesture options.\n",
    "You will use this function to simulate the gesture choice of the computer. "
   ]
  },
  {
   "cell_type": "code",
   "execution_count": 417,
   "metadata": {},
   "outputs": [],
   "source": [
    "computer = random.choice(gestures)    "
   ]
  },
  {
   "cell_type": "markdown",
   "metadata": {},
   "source": [
    "#### 7. Define a function that asks the player which is the gesture he or she wants to show: 'rock', 'paper' or 'scissors'.\n",
    "The player should only be allowed to choose one of the 3 gesture options. If the player's choice is not rock, paper or scissors, keep asking until it is."
   ]
  },
  {
   "cell_type": "code",
   "execution_count": 418,
   "metadata": {},
   "outputs": [],
   "source": [
    "player = ''\n",
    "while player not in gestures:\n",
    "    player = input(\"Please enter your choice:\")"
   ]
  },
  {
   "cell_type": "markdown",
   "metadata": {},
   "source": [
    "#### 8. Define a function that checks who won a round. \n",
    "The function should return 0 if there is a tie, 1 if the computer wins and 2 if the player wins."
   ]
  },
  {
   "cell_type": "code",
   "execution_count": 428,
   "metadata": {},
   "outputs": [],
   "source": [
    "def round_winner():\n",
    "    computer = random.choice(gestures)\n",
    "    player = ''\n",
    "    while player not in gestures:\n",
    "        player = input(\"Please enter your choice:\")    \n",
    "    round_output = 0\n",
    "    if player == computer:\n",
    "        round_output = 0\n",
    "    elif player == 'rock':\n",
    "        if computer == 'scissors':\n",
    "            round_output = 2\n",
    "        elif computer == 'paper':\n",
    "            round_output = 1\n",
    "    elif player == 'paper':\n",
    "        if computer == 'rock':\n",
    "            round_output = 2\n",
    "        elif computer == 'scissors':\n",
    "            round_output = 1\n",
    "    elif player == 'scissors':\n",
    "        if computer == 'paper':\n",
    "            round_output = 2\n",
    "        elif computer == 'rock':\n",
    "            round_output = 1\n",
    "    return round_output"
   ]
  },
  {
   "cell_type": "code",
   "execution_count": 433,
   "metadata": {},
   "outputs": [
    {
     "name": "stdout",
     "output_type": "stream",
     "text": [
      "Please enter your choice:rock\n"
     ]
    },
    {
     "data": {
      "text/plain": [
       "1"
      ]
     },
     "execution_count": 433,
     "metadata": {},
     "output_type": "execute_result"
    }
   ],
   "source": [
    "round_winner()"
   ]
  },
  {
   "cell_type": "markdown",
   "metadata": {},
   "source": [
    "#### 9. Define a function that prints the choice of the computer, the choice of the player and a message that announces who won the current round. \n",
    "You should also use this function to update the variables that count the number of rounds that the computer and the player have won. The score of the winner increases by one point. If there is a tie, the score does not increase."
   ]
  },
  {
   "cell_type": "code",
   "execution_count": 439,
   "metadata": {},
   "outputs": [],
   "source": [
    "def game_round():\n",
    "    computer = random.choice(gestures)\n",
    "    player = ''\n",
    "    cpu_score = 0\n",
    "    player_score = 0\n",
    "    while player not in gestures:\n",
    "        player = input(\"Please enter your choice:\")    \n",
    "    round_output = 0\n",
    "    if player == computer:\n",
    "        round_output = 0\n",
    "    elif player == 'rock':\n",
    "        if computer == 'scissors':\n",
    "            round_output = 2\n",
    "        elif computer == 'paper':\n",
    "            round_output = 1\n",
    "    elif player == 'paper':\n",
    "        if computer == 'rock':\n",
    "            round_output = 2\n",
    "        elif computer == 'scissors':\n",
    "            round_output = 1\n",
    "    elif player == 'scissors':\n",
    "        if computer == 'paper':\n",
    "            round_output = 2\n",
    "        elif computer == 'rock':\n",
    "            round_output = 1\n",
    "    print(\"You chose\",player)\n",
    "    print(\"CPU chose\",computer)\n",
    "    if round_output == 1:\n",
    "        cpu_score += 1\n",
    "        print(\"CPU wins round.\")\n",
    "    elif round_output == 2:\n",
    "        player_score += 1\n",
    "        print(\"Player wins round.\")\n",
    "    else:\n",
    "        print(\"Round tied.\")"
   ]
  },
  {
   "cell_type": "code",
   "execution_count": 440,
   "metadata": {},
   "outputs": [
    {
     "name": "stdout",
     "output_type": "stream",
     "text": [
      "Please enter your choice:rock\n",
      "You chose rock\n",
      "CPU chose paper\n",
      "CPU wins round.\n"
     ]
    }
   ],
   "source": [
    "game_round()"
   ]
  },
  {
   "cell_type": "markdown",
   "metadata": {},
   "source": [
    "#### 10. Now it's time to code the execution of the game using the functions and variables you defined above. \n",
    "\n",
    "First, create a loop structure that repeats while no player reaches the minimum score necessary to win and the number of rounds is less than the maximum number of rounds to play in a game.  \n",
    "\n",
    "Inside the loop, use the functions and variables above to create the execution of a round: ask for the player's choice, generate the random choice of the computer, show the round results, update the scores, etc. "
   ]
  },
  {
   "cell_type": "code",
   "execution_count": 444,
   "metadata": {},
   "outputs": [],
   "source": [
    "def rock_paper_scissors_game():\n",
    "    print(\"This game will take maximum\",n_rounds,\"rounds.\",rounds_to_win,\"are required for a player to win. Good luck!\")\n",
    "    cpu_score = 0\n",
    "    player_score = 0\n",
    "    rounds_played = 0\n",
    "    while player_score < rounds_to_win and cpu_score < rounds_to_win and rounds_played < n_rounds:\n",
    "        print(\"This is round\",rounds_played+1)\n",
    "        player = ''\n",
    "        computer = random.choice(gestures)\n",
    "        while player not in gestures:\n",
    "            player = input(\"Please enter your choice:\")\n",
    "        if player == computer:\n",
    "            round_output = 0\n",
    "        elif player == 'rock':\n",
    "            if computer == 'scissors':\n",
    "                round_output = 2\n",
    "            elif computer == 'paper':\n",
    "                round_output = 1\n",
    "        elif player == 'paper':\n",
    "            if computer == 'rock':\n",
    "                round_output = 2\n",
    "            elif computer == 'scissors':\n",
    "                round_output = 1\n",
    "        elif player == 'scissors':\n",
    "            if computer == 'paper':\n",
    "                round_output = 2\n",
    "            elif computer == 'rock':\n",
    "                round_output = 1        \n",
    "        print(\"You chose\",player)\n",
    "        print(\"CPU chose\",computer)\n",
    "        rounds_played += 1\n",
    "        if round_output == 1:\n",
    "            cpu_score += 1\n",
    "            print(\"CPU wins round.\")\n",
    "        elif round_output == 2:\n",
    "            player_score += 1\n",
    "            print(\"Player wins round.\")\n",
    "        else:\n",
    "            print(\"Round tied.\")\n",
    "        print(\"End of round\",rounds_played)\n",
    "        print(\"Score: Player:\",player_score,\"- CPU:\",cpu_score)"
   ]
  },
  {
   "cell_type": "code",
   "execution_count": 445,
   "metadata": {},
   "outputs": [
    {
     "name": "stdout",
     "output_type": "stream",
     "text": [
      "This game will take maximum 9 rounds. 4 are required for a player to win. Good luck!\n",
      "This is round 1\n",
      "Please enter your choice:rock\n",
      "You chose rock\n",
      "CPU chose paper\n",
      "CPU wins round.\n",
      "End of round 1\n",
      "Score: Player: 0 - CPU: 1\n",
      "This is round 2\n",
      "Please enter your choice:paper\n",
      "You chose paper\n",
      "CPU chose scissors\n",
      "CPU wins round.\n",
      "End of round 2\n",
      "Score: Player: 0 - CPU: 2\n",
      "This is round 3\n",
      "Please enter your choice:rock\n",
      "You chose rock\n",
      "CPU chose scissors\n",
      "Player wins round.\n",
      "End of round 3\n",
      "Score: Player: 1 - CPU: 2\n",
      "This is round 4\n",
      "Please enter your choice:paper\n",
      "You chose paper\n",
      "CPU chose rock\n",
      "Player wins round.\n",
      "End of round 4\n",
      "Score: Player: 2 - CPU: 2\n",
      "This is round 5\n",
      "Please enter your choice:paper\n",
      "You chose paper\n",
      "CPU chose scissors\n",
      "CPU wins round.\n",
      "End of round 5\n",
      "Score: Player: 2 - CPU: 3\n",
      "This is round 6\n",
      "Please enter your choice:paper\n",
      "You chose paper\n",
      "CPU chose rock\n",
      "Player wins round.\n",
      "End of round 6\n",
      "Score: Player: 3 - CPU: 3\n",
      "This is round 7\n",
      "Please enter your choice:rock\n",
      "You chose rock\n",
      "CPU chose paper\n",
      "CPU wins round.\n",
      "End of round 7\n",
      "Score: Player: 3 - CPU: 4\n"
     ]
    }
   ],
   "source": [
    "rock_paper_scissors_game()"
   ]
  },
  {
   "cell_type": "markdown",
   "metadata": {},
   "source": [
    "#### 11. Print the winner of the game based on who won more rounds.\n",
    "Remember that the game might be tied. "
   ]
  },
  {
   "cell_type": "code",
   "execution_count": 459,
   "metadata": {},
   "outputs": [],
   "source": [
    "def final_game():\n",
    "    print(\"This game will take maximum\",n_rounds,\"rounds.\",rounds_to_win,\"are required for a player to win. Good luck!\")\n",
    "    cpu_score = 0\n",
    "    player_score = 0\n",
    "    rounds_played = 0\n",
    "    while player_score < rounds_to_win and cpu_score < rounds_to_win and rounds_played < n_rounds:\n",
    "        print(\"This is round\",rounds_played+1)\n",
    "        player = ''\n",
    "        computer = random.choice(gestures)\n",
    "        while player not in gestures:\n",
    "            player = input(\"Please enter your choice:\")\n",
    "        if player == computer:\n",
    "            round_output = 0\n",
    "        elif player == 'rock':\n",
    "            if computer == 'scissors':\n",
    "                round_output = 2\n",
    "            elif computer == 'paper':\n",
    "                round_output = 1\n",
    "        elif player == 'paper':\n",
    "            if computer == 'rock':\n",
    "                round_output = 2\n",
    "            elif computer == 'scissors':\n",
    "                round_output = 1\n",
    "        elif player == 'scissors':\n",
    "            if computer == 'paper':\n",
    "                round_output = 2\n",
    "            elif computer == 'rock':\n",
    "                round_output = 1        \n",
    "        print(\"You chose\",player)\n",
    "        print(\"CPU chose\",computer)\n",
    "        rounds_played += 1\n",
    "        if round_output == 1:\n",
    "            cpu_score += 1\n",
    "            print(\"CPU wins round.\")\n",
    "        elif round_output == 2:\n",
    "            player_score += 1\n",
    "            print(\"Player wins round.\")\n",
    "        else:\n",
    "            print(\"Round tied.\")\n",
    "        print(\"End of round\",rounds_played)\n",
    "        print(\"Score: Player:\",player_score,\"- CPU:\",cpu_score)\n",
    "    if cpu_score == player_score or (cpu_score < rounds_to_win and player_score < rounds_to_win):\n",
    "        print(\"It's a tie!\")\n",
    "    elif cpu_score > player_score:\n",
    "        print(\"CPU wins!\")\n",
    "    elif player_score > cpu_score:\n",
    "        print(\"Player wins!\")"
   ]
  },
  {
   "cell_type": "code",
   "execution_count": 460,
   "metadata": {},
   "outputs": [
    {
     "name": "stdout",
     "output_type": "stream",
     "text": [
      "This game will take maximum 9 rounds. 5 are required for a player to win. Good luck!\n",
      "This is round 1\n",
      "Please enter your choice:rock\n",
      "You chose rock\n",
      "CPU chose scissors\n",
      "Player wins round.\n",
      "End of round 1\n",
      "Score: Player: 1 - CPU: 0\n",
      "This is round 2\n",
      "Please enter your choice:scissors\n",
      "You chose scissors\n",
      "CPU chose scissors\n",
      "Round tied.\n",
      "End of round 2\n",
      "Score: Player: 1 - CPU: 0\n",
      "This is round 3\n",
      "Please enter your choice:paper\n",
      "You chose paper\n",
      "CPU chose scissors\n",
      "CPU wins round.\n",
      "End of round 3\n",
      "Score: Player: 1 - CPU: 1\n",
      "This is round 4\n",
      "Please enter your choice:paper\n",
      "You chose paper\n",
      "CPU chose rock\n",
      "Player wins round.\n",
      "End of round 4\n",
      "Score: Player: 2 - CPU: 1\n",
      "This is round 5\n",
      "Please enter your choice:paper\n",
      "You chose paper\n",
      "CPU chose rock\n",
      "Player wins round.\n",
      "End of round 5\n",
      "Score: Player: 3 - CPU: 1\n",
      "This is round 6\n",
      "Please enter your choice:paper\n",
      "You chose paper\n",
      "CPU chose rock\n",
      "Player wins round.\n",
      "End of round 6\n",
      "Score: Player: 4 - CPU: 1\n",
      "This is round 7\n",
      "Please enter your choice:rock\n",
      "You chose rock\n",
      "CPU chose paper\n",
      "CPU wins round.\n",
      "End of round 7\n",
      "Score: Player: 4 - CPU: 2\n",
      "This is round 8\n",
      "Please enter your choice:rock\n",
      "You chose rock\n",
      "CPU chose paper\n",
      "CPU wins round.\n",
      "End of round 8\n",
      "Score: Player: 4 - CPU: 3\n",
      "This is round 9\n",
      "Please enter your choice:paper\n",
      "You chose paper\n",
      "CPU chose paper\n",
      "Round tied.\n",
      "End of round 9\n",
      "Score: Player: 4 - CPU: 3\n",
      "It's a tie!\n"
     ]
    }
   ],
   "source": [
    "final_game()"
   ]
  },
  {
   "cell_type": "markdown",
   "metadata": {},
   "source": [
    "# Bonus: Rock, Paper, Scissors, Lizard & Spock\n",
    "![](images/rpsls.jpg)\n",
    "\n",
    "In this challenge, you need to improve the previous game by adding two new options. To know more about the rules of the improved version of rock, paper, scissors, check this [link](http://www.samkass.com/theories/RPSSL.html). \n",
    "\n",
    "In addition, you will also need to improve how the game interacts with the player: the number of rounds to play, which must be an odd number, will be requested to the user until a valid number is entered. Define a new function to make that request.\n",
    "\n",
    "**Hint**: Try to reuse the code that you already coded in the previous challenge. If your code is efficient, this bonus will only consist of simple modifications to the original game."
   ]
  },
  {
   "cell_type": "code",
   "execution_count": 471,
   "metadata": {},
   "outputs": [],
   "source": [
    "new_gestures = ['rock','paper','scissors','lizard','spock']\n",
    "\n",
    "def rpsls_game():\n",
    "    n_rounds = 0\n",
    "    while n_rounds % 2 == 0:\n",
    "        n_rounds = int(input(\"How many rounds do you want to play?\"))\n",
    "    rounds_to_win = math.floor(n_rounds/2)+1\n",
    "    print(\"Thank you! This game will take maximum\",n_rounds,\"rounds. Only\",rounds_to_win,\"are required for a player to win. Good luck!\")\n",
    "    cpu_score = 0\n",
    "    player_score = 0\n",
    "    rounds_played = 0\n",
    "    while player_score < rounds_to_win and cpu_score < rounds_to_win and rounds_played < n_rounds:\n",
    "        print(\"This is round\",rounds_played+1)\n",
    "        player = ''\n",
    "        computer = random.choice(new_gestures)\n",
    "        while player not in new_gestures:\n",
    "            player = input(\"Please enter your choice:\")\n",
    "        if player == computer:\n",
    "            round_output = 0\n",
    "        elif player == 'rock':\n",
    "            if computer == 'scissors' or computer == 'lizard':\n",
    "                round_output = 2\n",
    "            elif computer == 'paper' or computer == 'spock':\n",
    "                round_output = 1\n",
    "        elif player == 'paper':\n",
    "            if computer == 'rock' or computer == 'spock':\n",
    "                round_output = 2\n",
    "            elif computer == 'scissors' or computer == 'lizard':\n",
    "                round_output = 1\n",
    "        elif player == 'scissors':\n",
    "            if computer == 'paper' or computer == 'lizard':\n",
    "                round_output = 2\n",
    "            elif computer == 'rock' or computer == 'spock':\n",
    "                round_output = 1\n",
    "        elif player == 'lizard':\n",
    "            if computer == 'paper' or computer == 'lizard':\n",
    "                round_output = 2\n",
    "            elif computer == 'rock' or computer == 'scissors':\n",
    "                round_output = 1\n",
    "        elif player == 'spock':\n",
    "            if computer == 'rock' or computer == 'scissors':\n",
    "                round_output = 2\n",
    "            elif computer == 'paper' or computer == 'spock':\n",
    "                round_output = 1\n",
    "        print(\"You chose\",player)\n",
    "        print(\"CPU chose\",computer)\n",
    "        rounds_played += 1\n",
    "        if round_output == 1:\n",
    "            cpu_score += 1\n",
    "        elif round_output == 2:\n",
    "            player_score += 1\n",
    "        print(\"End of round\",rounds_played)\n",
    "        print(\"Score: Player:\",player_score,\"- CPU:\",cpu_score)\n",
    "    if cpu_score == player_score or (cpu_score < rounds_to_win and player_score < rounds_to_win):\n",
    "        print(\"It's a tie!\")\n",
    "    elif cpu_score > player_score:\n",
    "        print(\"CPU wins!\")\n",
    "    elif player_score > cpu_score:\n",
    "        print(\"Player wins!\")"
   ]
  },
  {
   "cell_type": "code",
   "execution_count": 473,
   "metadata": {},
   "outputs": [
    {
     "name": "stdout",
     "output_type": "stream",
     "text": [
      "How many rounds do you want to play?6\n",
      "How many rounds do you want to play?8\n",
      "How many rounds do you want to play?7\n",
      "Thank you! This game will take maximum 7 rounds. Only 4 are required for a player to win. Good luck!\n",
      "This is round 1\n",
      "Please enter your choice:rock\n",
      "You chose rock\n",
      "CPU chose rock\n",
      "End of round 1\n",
      "Score: Player: 0 - CPU: 0\n",
      "This is round 2\n",
      "Please enter your choice:spock\n",
      "You chose spock\n",
      "CPU chose scissors\n",
      "End of round 2\n",
      "Score: Player: 1 - CPU: 0\n",
      "This is round 3\n",
      "Please enter your choice:lizard\n",
      "You chose lizard\n",
      "CPU chose scissors\n",
      "End of round 3\n",
      "Score: Player: 1 - CPU: 1\n",
      "This is round 4\n",
      "Please enter your choice:scissors\n",
      "You chose scissors\n",
      "CPU chose paper\n",
      "End of round 4\n",
      "Score: Player: 2 - CPU: 1\n",
      "This is round 5\n",
      "Please enter your choice:spock\n",
      "You chose spock\n",
      "CPU chose rock\n",
      "End of round 5\n",
      "Score: Player: 3 - CPU: 1\n",
      "This is round 6\n",
      "Please enter your choice:lizard\n",
      "You chose lizard\n",
      "CPU chose lizard\n",
      "End of round 6\n",
      "Score: Player: 3 - CPU: 1\n",
      "This is round 7\n",
      "Please enter your choice:spock\n",
      "You chose spock\n",
      "CPU chose paper\n",
      "End of round 7\n",
      "Score: Player: 3 - CPU: 2\n",
      "It's a tie!\n"
     ]
    }
   ],
   "source": [
    "rpsls_game()"
   ]
  }
 ],
 "metadata": {
  "kernelspec": {
   "display_name": "Python 3",
   "language": "python",
   "name": "python3"
  },
  "language_info": {
   "codemirror_mode": {
    "name": "ipython",
    "version": 3
   },
   "file_extension": ".py",
   "mimetype": "text/x-python",
   "name": "python",
   "nbconvert_exporter": "python",
   "pygments_lexer": "ipython3",
   "version": "3.8.5"
  }
 },
 "nbformat": 4,
 "nbformat_minor": 2
}
